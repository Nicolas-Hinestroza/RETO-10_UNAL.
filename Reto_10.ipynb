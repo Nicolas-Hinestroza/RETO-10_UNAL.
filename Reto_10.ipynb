{
 "cells": [
  {
   "cell_type": "code",
   "execution_count": 15,
   "metadata": {},
   "outputs": [
    {
     "name": "stdout",
     "output_type": "stream",
     "text": [
      "El promedio del arreglo de reales es 3.025\n"
     ]
    }
   ],
   "source": [
    "r = [1.3, 2.4, -3.0, 4.5, 7.0, 5, -5, 12] # Creamos un arreglo y le definimos como r\n",
    "a = 0 # Definimos la variable a igual a 0\n",
    "b = len(r) # Definimos la variable b como la cantidad de valores que tiene el arreglo \n",
    "for n in range(0,len(r)): # Para n en un rango de 0 hasta la cantidad de valores del arreglo r\n",
    "    a += r[0] # a es igual a a + el primer valor de arreglo\n",
    "    r.pop(0) # Eliminamos el primer valor del arreglo asi se va sumando todos los numeros\n",
    "a /= b # La suma de todos los numeros la dividimos entre la cantidad de valores asi sacamos el promedio \n",
    "print(\"El promedio del arreglo de reales es \" + str(a)) # Imprimimos el resultado"
   ]
  },
  {
   "cell_type": "code",
   "execution_count": 13,
   "metadata": {},
   "outputs": [
    {
     "name": "stdout",
     "output_type": "stream",
     "text": [
      "El producto punto de los dos arreglos de números enteros (reales) es: 6.919999999999998\n"
     ]
    }
   ],
   "source": [
    "a = [-3, 5, -2, 7.0, 8, 3.7] # Definimos el primer arreglo como a\n",
    "b = [2, -4, 5, 2, 7.5, -8.4] # Definimos el segundo arreglo como b\n",
    "x = 0 # Definimos la variable x igual a 0\n",
    "z = 0 # Definimos la variable z igual a 0\n",
    "for n in range(0,len(a)): # Para n en un rango de 0 hasta la cantidad de valores del arreglo a\n",
    "    x = a[0] * b[0] # x es igual al primer valor del arreglo de a multiplicado el primer valor del arreglo de b\n",
    "    z += x # z es igual a z + x\n",
    "    a.pop(0) # Eliminamos el primer valor del arreglo a asi se van tomando todos los valores del arreglo a\n",
    "    b.pop(0) # Eliminamos el primer valor del arreglo b asi se van tomando todos los valores del arreglo b\n",
    "print(\"El producto punto de los dos arreglos de números enteros (reales) es:\", z) # Imprimimos el resultado es decir z\n",
    "\n"
   ]
  },
  {
   "cell_type": "code",
   "execution_count": 14,
   "metadata": {},
   "outputs": [
    {
     "name": "stdout",
     "output_type": "stream",
     "text": [
      "El arreglo es: [0, 43, 2, 0, 5, 3, 0, 7, 0, 50] y al mover todos los ceros al final queda el siguiente Arreglo: [43, 2, 5, 3, 7, 50, 0, 0, 0, 0]\n"
     ]
    }
   ],
   "source": [
    "def moverCeros(a): # Definimos la funcion moverCeros con la variable a\n",
    "    b = []  # Crear una lista para almacenar los ceros\n",
    "    for n in a:# Para n en un rango de a\n",
    "        if n == 0: # si n == 0 haga\n",
    "            b.append(n) # Agregar los ceros a b\n",
    "    a = [n for n in a if n != 0] # Eliminamos los ceros del arreglo a\n",
    "    a.extend(b) # Agregar b al final del arreglo es decir a a \n",
    "    return a # Nos devuelve el arreglo a\n",
    "a = [0, 43, 2, 0, 5, 3, 0, 7, 0, 50] # Definimos el primer arreglo como a\n",
    "print(\"El arreglo es: \" + str(a) + \" y al mover todos los ceros al final queda el siguiente Arreglo: \" +str(moverCeros(a))) # Imprimimos el arreglo"
   ]
  }
 ],
 "metadata": {
  "kernelspec": {
   "display_name": "Python 3",
   "language": "python",
   "name": "python3"
  },
  "language_info": {
   "codemirror_mode": {
    "name": "ipython",
    "version": 3
   },
   "file_extension": ".py",
   "mimetype": "text/x-python",
   "name": "python",
   "nbconvert_exporter": "python",
   "pygments_lexer": "ipython3",
   "version": "3.11.2"
  },
  "orig_nbformat": 4
 },
 "nbformat": 4,
 "nbformat_minor": 2
}
